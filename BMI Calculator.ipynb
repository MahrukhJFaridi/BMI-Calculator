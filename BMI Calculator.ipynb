{
 "cells": [
  {
   "cell_type": "markdown",
   "id": "a421dfb4-df23-4ed6-8a95-d18be0762c85",
   "metadata": {},
   "source": [
    "BMI Calculator\n"
   ]
  },
  {
   "cell_type": "code",
   "execution_count": 7,
   "id": "0005a4c2-3f9c-4430-9ee7-ab97782369b3",
   "metadata": {},
   "outputs": [
    {
     "name": "stdin",
     "output_type": "stream",
     "text": [
      "Enter your name:  Chau\n",
      "Enter your weight in pounds:  103\n",
      "Enter your height in inches:  23\n"
     ]
    },
    {
     "name": "stdout",
     "output_type": "stream",
     "text": [
      "Chau, you are obese.\n"
     ]
    }
   ],
   "source": [
    "name=input(\"Enter your name: \")\n",
    "weight= float(input(\"Enter your weight in pounds: \"))\n",
    "height= float(input(\"Enter your height in inches: \"))\n",
    "BMI = (weight * 703) / (height * height)\n",
    "if BMI>0:\n",
    "    if BMI<18.5:\n",
    "        print(name+\", you are underweight.\")\n",
    "    elif (BMI>=18.5) and (BMI<=24.9):\n",
    "        print(name+\", you are normal weight.\")\n",
    "    elif (BMI>=25) and (BMI<=29.9):\n",
    "        print(name+\", you are overweight.\")\n",
    "    elif (BMI>=30):\n",
    "        print(name+\", you are obese.\")\n",
    "else:\n",
    "    print(\"Enter valid inputs.\")"
   ]
  },
  {
   "cell_type": "code",
   "execution_count": null,
   "id": "13f1e1dc-f468-43b7-b5a5-80653a68a794",
   "metadata": {},
   "outputs": [],
   "source": []
  }
 ],
 "metadata": {
  "kernelspec": {
   "display_name": "Python 3 (ipykernel)",
   "language": "python",
   "name": "python3"
  },
  "language_info": {
   "codemirror_mode": {
    "name": "ipython",
    "version": 3
   },
   "file_extension": ".py",
   "mimetype": "text/x-python",
   "name": "python",
   "nbconvert_exporter": "python",
   "pygments_lexer": "ipython3",
   "version": "3.11.7"
  }
 },
 "nbformat": 4,
 "nbformat_minor": 5
}
